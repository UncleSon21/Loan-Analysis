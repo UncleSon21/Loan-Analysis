{
 "cells": [
  {
   "cell_type": "code",
   "execution_count": 1,
   "id": "589a3581",
   "metadata": {
    "scrolled": true
   },
   "outputs": [
    {
     "name": "stderr",
     "output_type": "stream",
     "text": [
      "/opt/homebrew/Cellar/python@3.9/3.9.18/Frameworks/Python.framework/Versions/3.9/lib/python3.9/subprocess.py:1770: RuntimeWarning: os.fork() was called. os.fork() is incompatible with multithreaded code, and JAX is multithreaded, so this will likely lead to a deadlock.\n",
      "  self.pid = _posixsubprocess.fork_exec(\n",
      "Setting default log level to \"WARN\".\n",
      "To adjust logging level use sc.setLogLevel(newLevel). For SparkR, use setLogLevel(newLevel).\n",
      "24/05/25 22:59:05 WARN NativeCodeLoader: Unable to load native-hadoop library for your platform... using builtin-java classes where applicable\n"
     ]
    },
    {
     "name": "stdout",
     "output_type": "stream",
     "text": [
      "566896\n",
      "32681\n",
      "17.346348030966006\n"
     ]
    }
   ],
   "source": [
    "from pyspark.sql import SparkSession\n",
    "import pyspark.sql.functions as F\n",
    "from pyspark.sql.functions import col\n",
    "from pyspark.ml.feature import VectorAssembler\n",
    "from pyspark.ml.classification import DecisionTreeClassifier\n",
    "from pyspark.ml.evaluation import BinaryClassificationEvaluator, MulticlassClassificationEvaluator\n",
    "import tensorflow as tf\n",
    "import numpy as np\n",
    "import matplotlib.pyplot as plt\n",
    "\n",
    "# Create a Spark session\n",
    "spark = SparkSession.builder.getOrCreate()\n",
    "spark.conf.set('spark.sql.repl.eagerEval.enabled', True)\n",
    "sc = spark.sparkContext\n",
    "sc.setLogLevel(\"ERROR\")\n",
    "\n",
    "# Load data\n",
    "train_data = spark.read.parquet(\"train_df.parquet\")\n",
    "test_data = spark.read.parquet(\"test_df.parquet\")\n",
    "\n",
    "# Filter out columns\n",
    "columns_to_exclude = ['features', 'scaled_features']\n",
    "train_data_filtered = train_data.drop(*columns_to_exclude)\n",
    "test_data_filtered = test_data.drop(*columns_to_exclude)\n",
    "\n",
    "# Selected features\n",
    "selected_features = [\n",
    "    'loan_amnt', 'funded_amnt', 'funded_amnt_inv', 'term', 'int_rate', 'installment',\n",
    "    'grade', 'sub_grade', 'emp_length', 'annual_inc', 'dti', 'delinq_2yrs',\n",
    "    'inq_last_6mths', 'open_acc', 'pub_rec', 'revol_bal', 'revol_util', 'total_acc',\n",
    "    'out_prncp', 'out_prncp_inv', 'total_pymnt', 'total_pymnt_inv', 'total_rec_prncp',\n",
    "    'total_rec_int', 'total_rec_late_fee', 'recoveries', 'collection_recovery_fee',\n",
    "    'last_pymnt_amnt', 'collections_12_mths_ex_med', 'annual_inc_joint', 'dti_joint',\n",
    "    'acc_now_delinq', 'tot_coll_amt', 'tot_cur_bal', 'total_rev_hi_lim',\n",
    "    'addr_state_vec', 'purpose_vec', 'home_ownership_vec', 'next_pymnt_d_vec',\n",
    "    'verification_status_joint_vec', 'verification_status_vec', 'pymnt_plan_vec',\n",
    "    'initial_list_status_vec', 'application_type_vec'\n",
    "]\n",
    "class_counts = train_data_filtered.groupBy('default_ind').count().collect()\n",
    "majority_class_count = class_counts[0]['count']\n",
    "print(majority_class_count)\n",
    "minority_class_count = class_counts[1]['count']\n",
    "print(minority_class_count)\n",
    "imbalance_ratio = majority_class_count / minority_class_count\n",
    "print(imbalance_ratio)\n",
    "# Undersample the majority class to match the minority class\n",
    "undersampled_data = train_data_filtered.sampleBy(\n",
    "    'default_ind', fractions={0: minority_class_count / majority_class_count, 1: 1.0}\n",
    ")# Oversample the minority class to match the majority class\n",
    "oversampled_data = train_data_filtered.unionAll(\n",
    "    train_data_filtered.filter(col('default_ind') == 1)\n",
    "    .sample(True, imbalance_ratio - 1)\n",
    ")\n",
    "assembler = VectorAssembler(inputCols=selected_features, outputCol=\"features\")\n",
    "\n",
    "# Assemble features\n",
    "train_data = assembler.transform(train_data_filtered)\n",
    "test_data = assembler.transform(test_data_filtered)\n",
    "undersample = assembler.transform(undersampled_data)\n",
    "oversample = assembler.transform(oversampled_data)\n"
   ]
  },
  {
   "cell_type": "code",
   "execution_count": 2,
   "id": "a2fc4f10",
   "metadata": {},
   "outputs": [
    {
     "name": "stderr",
     "output_type": "stream",
     "text": [
      "                                                                                \r"
     ]
    },
    {
     "name": "stdout",
     "output_type": "stream",
     "text": [
      "Area Under ROC Curve = 0.94\n"
     ]
    },
    {
     "name": "stderr",
     "output_type": "stream",
     "text": [
      "\r",
      "[Stage 33:================>                                         (2 + 5) / 7]\r",
      "\r",
      "                                                                                \r"
     ]
    },
    {
     "name": "stdout",
     "output_type": "stream",
     "text": [
      "Test Accuracy = 0.99\n"
     ]
    },
    {
     "name": "stderr",
     "output_type": "stream",
     "text": [
      "                                                                                \r"
     ]
    },
    {
     "name": "stdout",
     "output_type": "stream",
     "text": [
      "Precision = 0.99\n"
     ]
    },
    {
     "name": "stderr",
     "output_type": "stream",
     "text": [
      "                                                                                \r"
     ]
    },
    {
     "name": "stdout",
     "output_type": "stream",
     "text": [
      "Recall = 1.00\n"
     ]
    },
    {
     "name": "stderr",
     "output_type": "stream",
     "text": [
      "[Stage 39:=================================>                        (4 + 3) / 7]\r"
     ]
    },
    {
     "name": "stdout",
     "output_type": "stream",
     "text": [
      "F1 Score = 0.99\n"
     ]
    },
    {
     "name": "stderr",
     "output_type": "stream",
     "text": [
      "\r",
      "[Stage 39:=================================================>        (6 + 1) / 7]\r",
      "\r",
      "                                                                                \r"
     ]
    }
   ],
   "source": [
    "# Train Decision Tree Classifier\n",
    "dt = DecisionTreeClassifier(featuresCol=\"features\", labelCol=\"default_ind\")\n",
    "model = dt.fit(train_data)\n",
    "\n",
    "# Make predictions\n",
    "predictions = model.transform(test_data)\n",
    "\n",
    "# Evaluate the model\n",
    "binary_evaluator = BinaryClassificationEvaluator(labelCol=\"default_ind\", rawPredictionCol=\"rawPrediction\")\n",
    "roc_auc = binary_evaluator.evaluate(predictions, {binary_evaluator.metricName: \"areaUnderROC\"})\n",
    "print(f\"Area Under ROC Curve = {roc_auc:.2f}\")\n",
    "\n",
    "# Additional metrics\n",
    "accuracy_evaluator = MulticlassClassificationEvaluator(labelCol=\"default_ind\", predictionCol=\"prediction\", metricName=\"accuracy\")\n",
    "accuracy = accuracy_evaluator.evaluate(predictions)\n",
    "print(f\"Test Accuracy = {accuracy:.2f}\")\n",
    "\n",
    "precision_evaluator = MulticlassClassificationEvaluator(labelCol=\"default_ind\", predictionCol=\"prediction\", metricName=\"precisionByLabel\")\n",
    "precision = precision_evaluator.evaluate(predictions)\n",
    "print(f\"Precision = {precision:.2f}\")\n",
    "\n",
    "recall_evaluator = MulticlassClassificationEvaluator(labelCol=\"default_ind\", predictionCol=\"prediction\", metricName=\"recallByLabel\")\n",
    "recall = recall_evaluator.evaluate(predictions)\n",
    "print(f\"Recall = {recall:.2f}\")\n",
    "\n",
    "f1_evaluator = MulticlassClassificationEvaluator(labelCol=\"default_ind\", predictionCol=\"prediction\", metricName=\"f1\")\n",
    "f1_score = f1_evaluator.evaluate(predictions)\n",
    "print(f\"F1 Score = {f1_score:.2f}\")"
   ]
  },
  {
   "cell_type": "code",
   "execution_count": 3,
   "id": "eb2be9ac",
   "metadata": {},
   "outputs": [
    {
     "name": "stderr",
     "output_type": "stream",
     "text": [
      "                                                                                \r"
     ]
    }
   ],
   "source": [
    "# Convert PySpark DataFrames to Pandas DataFrames for TensorFlow usage\n",
    "train_feature_pd = train_data.select('features').toPandas()\n",
    "train_target_pd = train_data.select('default_ind').toPandas()\n",
    "test_feature_pd = test_data.select('features').toPandas()\n",
    "test_target_pd = test_data.select('default_ind').toPandas()\n",
    "\n",
    "# Convert SparseVector to dense NumPy array\n",
    "def sparse_vector_to_dense(sparse_vector):\n",
    "    return sparse_vector.toArray()\n",
    "\n",
    "# Convert feature and target DataFrames to NumPy arrays\n",
    "train_features_array = np.array([sparse_vector_to_dense(row[0]) for row in train_feature_pd.values])\n",
    "train_target_array = np.array(train_target_pd.values).flatten()\n",
    "\n",
    "test_features_array = np.array([sparse_vector_to_dense(row[0]) for row in test_feature_pd.values])\n",
    "test_target_array = np.array(test_target_pd.values).flatten()\n",
    "\n",
    "# Convert NumPy arrays to TensorFlow tensors\n",
    "train_features_tensor = tf.constant(train_features_array)\n",
    "train_target_tensor = tf.constant(train_target_array)\n",
    "\n",
    "test_features_tensor = tf.constant(test_features_array)\n",
    "test_target_tensor = tf.constant(test_target_array)\n",
    "\n",
    "# Create TensorFlow datasets from the tensors\n",
    "train_dataset = tf.data.Dataset.from_tensor_slices((train_features_tensor, train_target_tensor))\n",
    "test_dataset = tf.data.Dataset.from_tensor_slices((test_features_tensor, test_target_tensor))\n",
    "\n",
    "batch_size = 512\n",
    "train_ds = train_dataset.batch(batch_size)\n",
    "test_ds = test_dataset.batch(batch_size)"
   ]
  },
  {
   "cell_type": "code",
   "execution_count": 4,
   "id": "d20c8444",
   "metadata": {},
   "outputs": [
    {
     "name": "stdout",
     "output_type": "stream",
     "text": [
      "Use /var/folders/kx/qpgsccg15pb6v1ttsc58ymm80000gn/T/tmpq26wftdp as temporary training directory\n",
      "Reading training dataset...\n",
      "Training dataset read in 0:00:04.026974. Found 599577 examples.\n",
      "Training model...\n"
     ]
    },
    {
     "name": "stderr",
     "output_type": "stream",
     "text": [
      "[INFO 24-05-25 23:00:39.3418 AEST kernel.cc:1233] Loading model from path /var/folders/kx/qpgsccg15pb6v1ttsc58ymm80000gn/T/tmpq26wftdp/model/ with prefix dea2515828464ae8\n"
     ]
    },
    {
     "name": "stdout",
     "output_type": "stream",
     "text": [
      "Model trained in 0:00:27.861240\n",
      "Compiling model...\n"
     ]
    },
    {
     "name": "stderr",
     "output_type": "stream",
     "text": [
      "[INFO 24-05-25 23:00:39.6070 AEST decision_forest.cc:734] Model loaded with 100 root(s), 205374 node(s), and 106 input feature(s).\n",
      "[INFO 24-05-25 23:00:39.6070 AEST abstract_model.cc:1344] Engine \"RandomForestOptPred\" built\n",
      "[INFO 24-05-25 23:00:39.6070 AEST kernel.cc:1061] Use fast generic engine\n"
     ]
    },
    {
     "name": "stdout",
     "output_type": "stream",
     "text": [
      "Model compiled.\n",
      "501/501 [==============================] - 4s 4ms/step - loss: 0.0000e+00\n",
      "Evaluation results (loss): {'loss': 0.0}\n",
      "501/501 [==============================] - 2s 4ms/step\n"
     ]
    },
    {
     "name": "stderr",
     "output_type": "stream",
     "text": [
      "/opt/homebrew/lib/python3.9/site-packages/sklearn/metrics/_classification.py:1509: UndefinedMetricWarning: Precision is ill-defined and being set to 0.0 due to no predicted samples. Use `zero_division` parameter to control this behavior.\n",
      "  _warn_prf(average, modifier, f\"{metric.capitalize()} is\", len(result))\n"
     ]
    },
    {
     "name": "stdout",
     "output_type": "stream",
     "text": [
      "Accuracy: 0.95\n",
      "F1 Score: 0.00\n",
      "Precision: 0.00\n",
      "Recall: 0.00\n",
      "ROC AUC: 0.99\n",
      "Confusion Matrix:\n",
      "[[242606      0]\n",
      " [ 13786      0]]\n"
     ]
    },
    {
     "data": {
      "image/png": "[encoded data removed]",
      "text/plain": [
       "<Figure size 432x288 with 1 Axes>"
      ]
     },
     "metadata": {
      "needs_background": "light"
     },
     "output_type": "display_data"
    }
   ],
   "source": [
    "import tensorflow as tf\n",
    "import tensorflow_decision_forests as tfdf\n",
    "import numpy as np\n",
    "from sklearn.metrics import f1_score, accuracy_score, precision_score, recall_score, confusion_matrix, roc_auc_score\n",
    "\n",
    "# Train the model\n",
    "rf_tf = tfdf.keras.RandomForestModel(num_trees=100)\n",
    "rf_tf.fit(train_ds)\n",
    "\n",
    "# Evaluate the model to get accuracy\n",
    "rf_tf_evaluation = rf_tf.evaluate(test_ds, return_dict=True)\n",
    "\n",
    "# Print the evaluation results (this only contains the loss)\n",
    "print(f\"Evaluation results (loss): {rf_tf_evaluation}\")\n",
    "\n",
    "# Get model predictions for the test set\n",
    "predictions = rf_tf.predict(test_ds)\n",
    "predicted_labels = np.argmax(predictions, axis=1)\n",
    "\n",
    "# Extract true labels from the test dataset\n",
    "#true_labels = np.concatenate([y for x, y in test_ds], axis=0)\n",
    "true_labels = test_target_tensor\n",
    "\n",
    "\n",
    "# Print accuracy, F1 score, precision, recall, and ROC AUC\n",
    "accuracy = accuracy_score(true_labels, predicted_labels)\n",
    "f1 = f1_score(true_labels, predicted_labels)\n",
    "precision = precision_score(true_labels, predicted_labels)\n",
    "recall = recall_score(true_labels, predicted_labels)\n",
    "roc_auc = roc_auc_score(true_labels, predictions)\n",
    "\n",
    "print(f\"Accuracy: {accuracy:.2f}\")\n",
    "print(f\"F1 Score: {f1:.2f}\")\n",
    "print(f\"Precision: {precision:.2f}\")\n",
    "print(f\"Recall: {recall:.2f}\")\n",
    "print(f\"ROC AUC: {roc_auc:.2f}\")\n",
    "\n",
    "# Print confusion matrix\n",
    "conf_matrix = confusion_matrix(true_labels, predicted_labels)\n",
    "print(f\"Confusion Matrix:\\n{conf_matrix}\")\n",
    "\n",
    "# Calculate and plot ROC curve\n",
    "from sklearn.metrics import roc_curve\n",
    "import matplotlib.pyplot as plt\n",
    "\n",
    "fpr, tpr, thresholds = roc_curve(true_labels, predictions)\n",
    "\n",
    "plt.figure()\n",
    "plt.plot(fpr, tpr, color='darkorange', lw=2, label=f'ROC curve (area = {roc_auc:.2f})')\n",
    "plt.plot([0, 1], [0, 1], color='navy', lw=2, linestyle='--')\n",
    "plt.xlim([0.0, 1.0])\n",
    "plt.ylim([0.0, 1.05])\n",
    "plt.xlabel('False Positive Rate')\n",
    "plt.ylabel('True Positive Rate')\n",
    "plt.title('Receiver Operating Characteristic')\n",
    "plt.legend(loc=\"lower right\")\n",
    "plt.show()"
   ]
  },
  {
   "cell_type": "code",
   "execution_count": 17,
   "id": "229a0165",
   "metadata": {
    "scrolled": true
   },
   "outputs": [
    {
     "name": "stdout",
     "output_type": "stream",
     "text": [
      "Epoch 1/10\n"
     ]
    },
    {
     "name": "stderr",
     "output_type": "stream",
     "text": [
      "/opt/homebrew/lib/python3.9/site-packages/keras/src/layers/core/dense.py:87: UserWarning: Do not pass an `input_shape`/`input_dim` argument to a layer. When using Sequential models, prefer using an `Input(shape)` object as the first layer in the model instead.\n",
      "  super().__init__(activity_regularizer=activity_regularizer, **kwargs)\n"
     ]
    },
    {
     "name": "stdout",
     "output_type": "stream",
     "text": [
      "\u001b[1m1172/1172\u001b[0m \u001b[32m━━━━━━━━━━━━━━━━━━━━\u001b[0m\u001b[37m\u001b[0m \u001b[1m3s\u001b[0m 2ms/step - accuracy: 0.9591 - loss: 545.8245 - val_accuracy: 0.0538 - val_loss: 79167.1172\n",
      "Epoch 2/10\n",
      "\u001b[1m1172/1172\u001b[0m \u001b[32m━━━━━━━━━━━━━━━━━━━━\u001b[0m\u001b[37m\u001b[0m \u001b[1m2s\u001b[0m 2ms/step - accuracy: 0.9024 - loss: 2900.7314 - val_accuracy: 0.0619 - val_loss: 4936.9263\n",
      "Epoch 3/10\n",
      "\u001b[1m1172/1172\u001b[0m \u001b[32m━━━━━━━━━━━━━━━━━━━━\u001b[0m\u001b[37m\u001b[0m \u001b[1m1s\u001b[0m 1ms/step - accuracy: 0.9048 - loss: 206.3578 - val_accuracy: 0.4973 - val_loss: 20.1937\n",
      "Epoch 4/10\n",
      "\u001b[1m1172/1172\u001b[0m \u001b[32m━━━━━━━━━━━━━━━━━━━━\u001b[0m\u001b[37m\u001b[0m \u001b[1m2s\u001b[0m 1ms/step - accuracy: 0.9806 - loss: 1.2350 - val_accuracy: 0.5375 - val_loss: 12.5709\n",
      "Epoch 5/10\n",
      "\u001b[1m1172/1172\u001b[0m \u001b[32m━━━━━━━━━━━━━━━━━━━━\u001b[0m\u001b[37m\u001b[0m \u001b[1m2s\u001b[0m 2ms/step - accuracy: 0.9863 - loss: 0.5577 - val_accuracy: 0.5896 - val_loss: 6.4576\n",
      "Epoch 6/10\n",
      "\u001b[1m1172/1172\u001b[0m \u001b[32m━━━━━━━━━━━━━━━━━━━━\u001b[0m\u001b[37m\u001b[0m \u001b[1m2s\u001b[0m 2ms/step - accuracy: 0.9912 - loss: 0.3115 - val_accuracy: 0.6097 - val_loss: 3.2863\n",
      "Epoch 7/10\n",
      "\u001b[1m1172/1172\u001b[0m \u001b[32m━━━━━━━━━━━━━━━━━━━━\u001b[0m\u001b[37m\u001b[0m \u001b[1m2s\u001b[0m 2ms/step - accuracy: 0.9948 - loss: 0.1304 - val_accuracy: 0.5457 - val_loss: 4.8277\n",
      "Epoch 8/10\n",
      "\u001b[1m1172/1172\u001b[0m \u001b[32m━━━━━━━━━━━━━━━━━━━━\u001b[0m\u001b[37m\u001b[0m \u001b[1m3s\u001b[0m 2ms/step - accuracy: 0.9958 - loss: 0.0973 - val_accuracy: 0.4671 - val_loss: 9.6174\n",
      "Epoch 9/10\n",
      "\u001b[1m1172/1172\u001b[0m \u001b[32m━━━━━━━━━━━━━━━━━━━━\u001b[0m\u001b[37m\u001b[0m \u001b[1m2s\u001b[0m 2ms/step - accuracy: 0.9962 - loss: 0.0906 - val_accuracy: 0.4345 - val_loss: 15.3365\n",
      "Epoch 10/10\n",
      "\u001b[1m1172/1172\u001b[0m \u001b[32m━━━━━━━━━━━━━━━━━━━━\u001b[0m\u001b[37m\u001b[0m \u001b[1m2s\u001b[0m 2ms/step - accuracy: 0.9969 - loss: 0.0851 - val_accuracy: 0.3853 - val_loss: 24.5525\n",
      "\u001b[1m501/501\u001b[0m \u001b[32m━━━━━━━━━━━━━━━━━━━━\u001b[0m\u001b[37m\u001b[0m \u001b[1m1s\u001b[0m 731us/step - accuracy: 0.6468 - loss: 3.0653\n",
      "Test Accuracy: 0.61\n",
      "\u001b[1m501/501\u001b[0m \u001b[32m━━━━━━━━━━━━━━━━━━━━\u001b[0m\u001b[37m\u001b[0m \u001b[1m0s\u001b[0m 760us/step\n",
      "Accuracy: 0.61\n",
      "F1 Score: 0.02\n",
      "Confusion Matrix:\n",
      "[[155505  87101]\n",
      " [ 12974    812]]\n",
      "ROC AUC: 0.33\n"
     ]
    },
    {
     "name": "stderr",
     "output_type": "stream",
     "text": [
      "2024-05-26 23:00:25.882410: W tensorflow/core/framework/local_rendezvous.cc:404] Local rendezvous is aborting with status: OUT_OF_RANGE: End of sequence\n"
     ]
    }
   ],
   "source": [
    "\n",
    "# Training and evaluating TensorFlow Decision Forest model\n",
    "from sklearn.metrics import f1_score, accuracy_score, precision_score, recall_score, confusion_matrix\n",
    "import tensorflow_decision_forests as tfdf\n",
    "from tensorflow.keras import layers\n",
    "from tensorflow import keras\n",
    "# Define the neural network architecture\n",
    "model = tf.keras.Sequential([\n",
    "    layers.Dense(32, activation='relu', input_shape=(train_features_array.shape[1],)),\n",
    "    layers.Dropout(0.3),\n",
    "    layers.Dense(1, activation='sigmoid')  # Sigmoid for binary classification\n",
    "])\n",
    "\n",
    "# Compile the model\n",
    "model.compile(optimizer='adam',\n",
    "              loss='binary_crossentropy',  # Use binary crossentropy for binary classification\n",
    "              metrics=['accuracy'])\n",
    "check_point = \"Feedfowrad.keras\"\n",
    "# Train the model\n",
    "history = model.fit(train_ds, epochs=10, batch_size = 128, validation_data=test_ds,\n",
    "                   callbacks=[\n",
    "                       tf.keras.callbacks.EarlyStopping(monitor='val_loss', mode='min', verbose=1, patience=10),\n",
    "                       keras.callbacks.ModelCheckpoint(check_point, save_best_only=True)\n",
    "                   ])\n",
    "model = keras.models.load_model(check_point)\n",
    "# Evaluate the model\n",
    "loss, accuracy = model.evaluate(test_ds)\n",
    "print(f\"Test Accuracy: {accuracy:.2f}\")\n",
    "\n",
    "# Get model predictions for the test set\n",
    "predictions = model.predict(test_ds)\n",
    "predicted_labels = (predictions > 0.5).astype(int).flatten()\n",
    "\n",
    "# Extract true labels from the test dataset\n",
    "true_labels = np.concatenate([y.numpy() for x, y in test_ds], axis=0)\n",
    "\n",
    "# Calculate and print accuracy and F1 score\n",
    "accuracy = accuracy_score(true_labels, predicted_labels)\n",
    "print(f\"Accuracy: {accuracy:.2f}\")\n",
    "\n",
    "f1 = f1_score(true_labels, predicted_labels)\n",
    "print(f\"F1 Score: {f1:.2f}\")\n",
    "\n",
    "# Print confusion matrix\n",
    "conf_matrix = confusion_matrix(true_labels, predicted_labels)\n",
    "print(f\"Confusion Matrix:\\n{conf_matrix}\")\n",
    "\n",
    "# Calculate ROC AUC\n",
    "auc = tf.keras.metrics.AUC(curve='ROC')\n",
    "auc.update_state(true_labels, predictions)\n",
    "roc_auc = auc.result().numpy()\n",
    "\n",
    "print(f\"ROC AUC: {roc_auc:.2f}\")\n"
   ]
  },
  {
   "cell_type": "code",
   "execution_count": 18,
   "id": "7d84073f",
   "metadata": {},
   "outputs": [
    {
     "data": {
      "image/png": "[encoded data removed]",
      "text/plain": [
       "<Figure size 576x432 with 1 Axes>"
      ]
     },
     "metadata": {
      "needs_background": "light"
     },
     "output_type": "display_data"
    }
   ],
   "source": [
    "import seaborn as sns\n",
    "\n",
    "# Plot confusion matrix heatmap\n",
    "plt.figure(figsize=(8, 6))\n",
    "sns.heatmap(conf_matrix, annot=True, fmt='d', cmap='Blues', cbar=False)\n",
    "plt.xlabel('Predicted Label')\n",
    "plt.ylabel('True Label')\n",
    "plt.title('Confusion Matrix Heatmap')\n",
    "plt.show()"
   ]
  },
  {
   "cell_type": "code",
   "execution_count": 6,
   "id": "87f30261",
   "metadata": {
    "scrolled": true
   },
   "outputs": [
    {
     "data": {
      "text/plain": [
       "(0.0, 1.0)"
      ]
     },
     "execution_count": 6,
     "metadata": {},
     "output_type": "execute_result"
    },
    {
     "data": {
      "image/png": "[encoded data removed]",
      "text/plain": [
       "<Figure size 576x360 with 1 Axes>"
      ]
     },
     "metadata": {
      "needs_background": "light"
     },
     "output_type": "display_data"
    }
   ],
   "source": [
    "import pandas as pd\n",
    "# Show the training process\n",
    "pd.DataFrame(history.history).plot(figsize=(8, 5)) \n",
    "plt.grid(True)\n",
    "plt.gca().set_ylim(0, 1)"
   ]
  },
  {
   "cell_type": "code",
   "execution_count": 8,
   "id": "80ae518c",
   "metadata": {
    "scrolled": false
   },
   "outputs": [
    {
     "name": "stderr",
     "output_type": "stream",
     "text": [
      "/opt/homebrew/lib/python3.9/site-packages/keras/src/layers/convolutional/base_conv.py:107: UserWarning: Do not pass an `input_shape`/`input_dim` argument to a layer. When using Sequential models, prefer using an `Input(shape)` object as the first layer in the model instead.\n",
      "  super().__init__(activity_regularizer=activity_regularizer, **kwargs)\n"
     ]
    },
    {
     "name": "stdout",
     "output_type": "stream",
     "text": [
      "Epoch 1/10\n",
      "\u001b[1m4685/4685\u001b[0m \u001b[32m━━━━━━━━━━━━━━━━━━━━\u001b[0m\u001b[37m\u001b[0m \u001b[1m70s\u001b[0m 15ms/step - accuracy: 0.9422 - loss: 26.6507 - val_accuracy: 0.9462 - val_loss: 0.2310\n",
      "Epoch 2/10\n",
      "\u001b[1m4685/4685\u001b[0m \u001b[32m━━━━━━━━━━━━━━━━━━━━\u001b[0m\u001b[37m\u001b[0m \u001b[1m66s\u001b[0m 14ms/step - accuracy: 0.9453 - loss: 0.2522 - val_accuracy: 0.9462 - val_loss: 0.2095\n",
      "Epoch 3/10\n",
      "\u001b[1m4685/4685\u001b[0m \u001b[32m━━━━━━━━━━━━━━━━━━━━\u001b[0m\u001b[37m\u001b[0m \u001b[1m65s\u001b[0m 14ms/step - accuracy: 0.9458 - loss: 0.2106 - val_accuracy: 0.9462 - val_loss: 0.2095\n",
      "Epoch 4/10\n",
      "\u001b[1m4685/4685\u001b[0m \u001b[32m━━━━━━━━━━━━━━━━━━━━\u001b[0m\u001b[37m\u001b[0m \u001b[1m63s\u001b[0m 13ms/step - accuracy: 0.9461 - loss: 0.2111 - val_accuracy: 0.9462 - val_loss: 0.2389\n",
      "Epoch 5/10\n",
      "\u001b[1m4685/4685\u001b[0m \u001b[32m━━━━━━━━━━━━━━━━━━━━\u001b[0m\u001b[37m\u001b[0m \u001b[1m64s\u001b[0m 14ms/step - accuracy: 0.9455 - loss: 0.2139 - val_accuracy: 0.9462 - val_loss: 0.2095\n",
      "Epoch 6/10\n",
      "\u001b[1m4685/4685\u001b[0m \u001b[32m━━━━━━━━━━━━━━━━━━━━\u001b[0m\u001b[37m\u001b[0m \u001b[1m65s\u001b[0m 14ms/step - accuracy: 0.9464 - loss: 0.2088 - val_accuracy: 0.9462 - val_loss: 0.2095\n",
      "Epoch 7/10\n",
      "\u001b[1m4685/4685\u001b[0m \u001b[32m━━━━━━━━━━━━━━━━━━━━\u001b[0m\u001b[37m\u001b[0m \u001b[1m65s\u001b[0m 14ms/step - accuracy: 0.9451 - loss: 0.2128 - val_accuracy: 0.9462 - val_loss: 0.2095\n",
      "Epoch 8/10\n",
      "\u001b[1m4685/4685\u001b[0m \u001b[32m━━━━━━━━━━━━━━━━━━━━\u001b[0m\u001b[37m\u001b[0m \u001b[1m68s\u001b[0m 14ms/step - accuracy: 0.9451 - loss: 0.2127 - val_accuracy: 0.9462 - val_loss: 0.2095\n",
      "Epoch 9/10\n",
      "\u001b[1m4685/4685\u001b[0m \u001b[32m━━━━━━━━━━━━━━━━━━━━\u001b[0m\u001b[37m\u001b[0m \u001b[1m69s\u001b[0m 15ms/step - accuracy: 0.9458 - loss: 0.2107 - val_accuracy: 0.9462 - val_loss: 0.2095\n",
      "Epoch 10/10\n",
      "\u001b[1m4685/4685\u001b[0m \u001b[32m━━━━━━━━━━━━━━━━━━━━\u001b[0m\u001b[37m\u001b[0m \u001b[1m78s\u001b[0m 17ms/step - accuracy: 0.9454 - loss: 0.2119 - val_accuracy: 0.9462 - val_loss: 0.2095\n",
      "\u001b[1m8013/8013\u001b[0m \u001b[32m━━━━━━━━━━━━━━━━━━━━\u001b[0m\u001b[37m\u001b[0m \u001b[1m15s\u001b[0m 2ms/step - accuracy: 0.9985 - loss: 0.0602\n",
      "Test Accuracy: 0.95\n"
     ]
    }
   ],
   "source": [
    "from tensorflow.keras.models import Sequential\n",
    "from tensorflow.keras.layers import Conv1D, MaxPooling1D, Flatten, Dense, Dropout\n",
    "\n",
    "# Define the model\n",
    "model = Sequential([\n",
    "    Conv1D(64, 3, activation='relu', input_shape=(train_features_array.shape[1], 1)),\n",
    "    MaxPooling1D(2),\n",
    "    Conv1D(128, 3, activation='relu'),\n",
    "    MaxPooling1D(2),\n",
    "    Flatten(),\n",
    "    Dense(128, activation='relu'),\n",
    "    Dropout(0.5),\n",
    "    Dense(1, activation='sigmoid')\n",
    "])\n",
    "\n",
    "# Compile the model\n",
    "model.compile(optimizer='adam',\n",
    "              loss='binary_crossentropy',\n",
    "              metrics=['accuracy'])\n",
    "\n",
    "# Train the model\n",
    "history = model.fit(train_features_tensor[..., tf.newaxis], train_target_tensor, epochs=10, batch_size=128,\n",
    "                    validation_data=(test_features_tensor[..., tf.newaxis], test_target_tensor))\n",
    "\n",
    "# Evaluate the model\n",
    "loss, accuracy = model.evaluate(test_features_tensor[..., tf.newaxis], test_target_tensor)\n",
    "print(f\"Test Accuracy: {accuracy:.2f}\")\n"
   ]
  },
  {
   "cell_type": "code",
   "execution_count": 15,
   "id": "1306fae3",
   "metadata": {
    "scrolled": true
   },
   "outputs": [
    {
     "name": "stdout",
     "output_type": "stream",
     "text": [
      "Epoch 1/10\n"
     ]
    },
    {
     "name": "stderr",
     "output_type": "stream",
     "text": [
      "/opt/homebrew/lib/python3.9/site-packages/keras/src/layers/core/dense.py:87: UserWarning: Do not pass an `input_shape`/`input_dim` argument to a layer. When using Sequential models, prefer using an `Input(shape)` object as the first layer in the model instead.\n",
      "  super().__init__(activity_regularizer=activity_regularizer, **kwargs)\n"
     ]
    },
    {
     "name": "stdout",
     "output_type": "stream",
     "text": [
      "\u001b[1m1172/1172\u001b[0m \u001b[32m━━━━━━━━━━━━━━━━━━━━\u001b[0m\u001b[37m\u001b[0m \u001b[1m5s\u001b[0m 2ms/step - accuracy: 0.9617 - loss: 112.8631 - val_accuracy: 0.0538 - val_loss: 21645.9180\n",
      "Epoch 2/10\n",
      "\u001b[1m1172/1172\u001b[0m \u001b[32m━━━━━━━━━━━━━━━━━━━━\u001b[0m\u001b[37m\u001b[0m \u001b[1m2s\u001b[0m 1ms/step - accuracy: 0.9050 - loss: 950.1284 - val_accuracy: 0.0540 - val_loss: 15249.3809\n",
      "Epoch 3/10\n",
      "\u001b[1m1172/1172\u001b[0m \u001b[32m━━━━━━━━━━━━━━━━━━━━\u001b[0m\u001b[37m\u001b[0m \u001b[1m2s\u001b[0m 2ms/step - accuracy: 0.9209 - loss: 595.2448 - val_accuracy: 0.0570 - val_loss: 11446.4834\n",
      "Epoch 4/10\n",
      "\u001b[1m1172/1172\u001b[0m \u001b[32m━━━━━━━━━━━━━━━━━━━━\u001b[0m\u001b[37m\u001b[0m \u001b[1m2s\u001b[0m 2ms/step - accuracy: 0.9336 - loss: 395.5652 - val_accuracy: 0.1012 - val_loss: 9126.7832\n",
      "Epoch 5/10\n",
      "\u001b[1m1172/1172\u001b[0m \u001b[32m━━━━━━━━━━━━━━━━━━━━\u001b[0m\u001b[37m\u001b[0m \u001b[1m1s\u001b[0m 1ms/step - accuracy: 0.9410 - loss: 284.5179 - val_accuracy: 0.1265 - val_loss: 8615.9023\n",
      "Epoch 6/10\n",
      "\u001b[1m1172/1172\u001b[0m \u001b[32m━━━━━━━━━━━━━━━━━━━━\u001b[0m\u001b[37m\u001b[0m \u001b[1m2s\u001b[0m 1ms/step - accuracy: 0.9450 - loss: 237.6877 - val_accuracy: 0.1354 - val_loss: 8531.3770\n",
      "Epoch 7/10\n",
      "\u001b[1m1172/1172\u001b[0m \u001b[32m━━━━━━━━━━━━━━━━━━━━\u001b[0m\u001b[37m\u001b[0m \u001b[1m1s\u001b[0m 1ms/step - accuracy: 0.9471 - loss: 217.3445 - val_accuracy: 0.1404 - val_loss: 8377.9414\n",
      "Epoch 8/10\n",
      "\u001b[1m1172/1172\u001b[0m \u001b[32m━━━━━━━━━━━━━━━━━━━━\u001b[0m\u001b[37m\u001b[0m \u001b[1m1s\u001b[0m 1ms/step - accuracy: 0.9491 - loss: 200.0473 - val_accuracy: 0.1428 - val_loss: 8191.9155\n",
      "Epoch 9/10\n",
      "\u001b[1m1172/1172\u001b[0m \u001b[32m━━━━━━━━━━━━━━━━━━━━\u001b[0m\u001b[37m\u001b[0m \u001b[1m1s\u001b[0m 1ms/step - accuracy: 0.9510 - loss: 184.7132 - val_accuracy: 0.1396 - val_loss: 8067.6553\n",
      "Epoch 10/10\n",
      "\u001b[1m1172/1172\u001b[0m \u001b[32m━━━━━━━━━━━━━━━━━━━━\u001b[0m\u001b[37m\u001b[0m \u001b[1m2s\u001b[0m 1ms/step - accuracy: 0.9523 - loss: 173.8607 - val_accuracy: 0.1284 - val_loss: 8115.6099\n",
      "\u001b[1m501/501\u001b[0m \u001b[32m━━━━━━━━━━━━━━━━━━━━\u001b[0m\u001b[37m\u001b[0m \u001b[1m1s\u001b[0m 765us/step - accuracy: 0.0759 - loss: 7511.7915\n",
      "Test Accuracy: 0.14\n",
      "\u001b[1m501/501\u001b[0m \u001b[32m━━━━━━━━━━━━━━━━━━━━\u001b[0m\u001b[37m\u001b[0m \u001b[1m0s\u001b[0m 887us/step\n",
      "Precision: 0.06\n",
      "Recall: 1.00\n",
      "Confusion Matrix:\n",
      "[[ 22025 220581]\n",
      " [    34  13752]]\n"
     ]
    },
    {
     "name": "stderr",
     "output_type": "stream",
     "text": [
      "2024-05-26 22:59:55.579837: W tensorflow/core/framework/local_rendezvous.cc:404] Local rendezvous is aborting with status: OUT_OF_RANGE: End of sequence\n"
     ]
    },
    {
     "data": {
      "image/png": "[encoded data removed]",
      "text/plain": [
       "<Figure size 576x360 with 1 Axes>"
      ]
     },
     "metadata": {
      "needs_background": "light"
     },
     "output_type": "display_data"
    }
   ],
   "source": [
    "import pandas as pd\n",
    "from tensorflow import keras\n",
    "\n",
    "model = tf.keras.Sequential([\n",
    "    tf.keras.layers.Dense(1, activation='linear', input_shape=(train_features_array.shape[1],))\n",
    "])\n",
    "\n",
    "# Compile the model\n",
    "model.compile(optimizer='adam',\n",
    "              loss='hinge', \n",
    "              metrics=['accuracy'])\n",
    "\n",
    "check_point = \"Feedfowrad.keras\"\n",
    "# Train the model\n",
    "history = model.fit(train_ds, epochs=10, batch_size = 128, validation_data=test_ds,\n",
    "                   callbacks=[\n",
    "                       tf.keras.callbacks.EarlyStopping(monitor='val_loss', mode='min', verbose=1, patience=10),\n",
    "                       keras.callbacks.ModelCheckpoint(check_point, save_best_only=True)\n",
    "                   ])\n",
    "model = keras.models.load_model(check_point)\n",
    "\n",
    "# Evaluate the model\n",
    "loss, accuracy = model.evaluate(test_ds)\n",
    "print(f\"Test Accuracy: {accuracy:.2f}\")\n",
    "\n",
    "# Get model predictions for the test set\n",
    "predictions = model.predict(test_ds)\n",
    "predicted_labels = (predictions > 0).astype(int).flatten()\n",
    "\n",
    "# Extract true labels from the test dataset\n",
    "true_labels = np.concatenate([y.numpy() for x, y in test_ds], axis=0)\n",
    "\n",
    "# Calculate metrics using TensorFlow functions\n",
    "precision = tf.metrics.Precision()\n",
    "recall = tf.metrics.Recall()\n",
    "\n",
    "precision.update_state(true_labels, predicted_labels)\n",
    "recall.update_state(true_labels, predicted_labels)\n",
    "\n",
    "precision_value = precision.result().numpy()\n",
    "recall_value = recall.result().numpy()\n",
    "\n",
    "print(f\"Precision: {precision_value:.2f}\")\n",
    "print(f\"Recall: {recall_value:.2f}\")\n",
    "\n",
    "# Compute the confusion matrix\n",
    "conf_matrix = tf.math.confusion_matrix(true_labels, predicted_labels)\n",
    "print(f\"Confusion Matrix:\\n{conf_matrix.numpy()}\")\n",
    "\n",
    "# Show the training process\n",
    "pd.DataFrame(history.history).plot(figsize=(8, 5)) \n",
    "plt.grid(True)\n",
    "plt.gca().set_ylim(0, 1)\n",
    "plt.show()"
   ]
  },
  {
   "cell_type": "code",
   "execution_count": 16,
   "id": "f6d6bb46",
   "metadata": {},
   "outputs": [
    {
     "data": {
      "image/png": "[encoded data removed]",
      "text/plain": [
       "<Figure size 576x432 with 1 Axes>"
      ]
     },
     "metadata": {
      "needs_background": "light"
     },
     "output_type": "display_data"
    }
   ],
   "source": [
    "import seaborn as sns\n",
    "\n",
    "# Plot confusion matrix heatmap\n",
    "plt.figure(figsize=(8, 6))\n",
    "sns.heatmap(conf_matrix, annot=True, fmt='d', cmap='Blues', cbar=False)\n",
    "plt.xlabel('Predicted Label')\n",
    "plt.ylabel('True Label')\n",
    "plt.title('Confusion Matrix Heatmap')\n",
    "plt.show()"
   ]
  },
  {
   "cell_type": "code",
   "execution_count": 10,
   "id": "76db9ba7",
   "metadata": {},
   "outputs": [
    {
     "name": "stderr",
     "output_type": "stream",
     "text": [
      "/opt/homebrew/lib/python3.9/site-packages/keras/src/layers/rnn/rnn.py:204: UserWarning: Do not pass an `input_shape`/`input_dim` argument to a layer. When using Sequential models, prefer using an `Input(shape)` object as the first layer in the model instead.\n",
      "  super().__init__(**kwargs)\n"
     ]
    },
    {
     "name": "stdout",
     "output_type": "stream",
     "text": [
      "Epoch 1/10\n",
      "\u001b[1m4685/4685\u001b[0m \u001b[32m━━━━━━━━━━━━━━━━━━━━\u001b[0m\u001b[37m\u001b[0m \u001b[1m680s\u001b[0m 145ms/step - accuracy: 0.9460 - loss: 0.1958 - val_accuracy: 0.9504 - val_loss: 0.1332\n",
      "Epoch 2/10\n",
      "\u001b[1m4685/4685\u001b[0m \u001b[32m━━━━━━━━━━━━━━━━━━━━\u001b[0m\u001b[37m\u001b[0m \u001b[1m725s\u001b[0m 155ms/step - accuracy: 0.9624 - loss: 0.1209 - val_accuracy: 0.9733 - val_loss: 0.0655\n",
      "Epoch 3/10\n",
      "\u001b[1m4685/4685\u001b[0m \u001b[32m━━━━━━━━━━━━━━━━━━━━\u001b[0m\u001b[37m\u001b[0m \u001b[1m598s\u001b[0m 128ms/step - accuracy: 0.9734 - loss: 0.0712 - val_accuracy: 0.9781 - val_loss: 0.0598\n",
      "Epoch 4/10\n",
      "\u001b[1m4685/4685\u001b[0m \u001b[32m━━━━━━━━━━━━━━━━━━━━\u001b[0m\u001b[37m\u001b[0m \u001b[1m624s\u001b[0m 133ms/step - accuracy: 0.9784 - loss: 0.0573 - val_accuracy: 0.9815 - val_loss: 0.0506\n",
      "Epoch 5/10\n",
      "\u001b[1m4685/4685\u001b[0m \u001b[32m━━━━━━━━━━━━━━━━━━━━\u001b[0m\u001b[37m\u001b[0m \u001b[1m602s\u001b[0m 128ms/step - accuracy: 0.9742 - loss: 0.0710 - val_accuracy: 0.9793 - val_loss: 0.0531\n",
      "Epoch 6/10\n",
      "\u001b[1m4685/4685\u001b[0m \u001b[32m━━━━━━━━━━━━━━━━━━━━\u001b[0m\u001b[37m\u001b[0m \u001b[1m598s\u001b[0m 128ms/step - accuracy: 0.9788 - loss: 0.0581 - val_accuracy: 0.9819 - val_loss: 0.0492\n",
      "Epoch 7/10\n",
      "\u001b[1m4685/4685\u001b[0m \u001b[32m━━━━━━━━━━━━━━━━━━━━\u001b[0m\u001b[37m\u001b[0m \u001b[1m634s\u001b[0m 135ms/step - accuracy: 0.9808 - loss: 0.0516 - val_accuracy: 0.9840 - val_loss: 0.0455\n",
      "Epoch 8/10\n",
      "\u001b[1m4685/4685\u001b[0m \u001b[32m━━━━━━━━━━━━━━━━━━━━\u001b[0m\u001b[37m\u001b[0m \u001b[1m639s\u001b[0m 136ms/step - accuracy: 0.9830 - loss: 0.0478 - val_accuracy: 0.9869 - val_loss: 0.0425\n",
      "Epoch 9/10\n",
      "\u001b[1m4685/4685\u001b[0m \u001b[32m━━━━━━━━━━━━━━━━━━━━\u001b[0m\u001b[37m\u001b[0m \u001b[1m592s\u001b[0m 126ms/step - accuracy: 0.9894 - loss: 0.0350 - val_accuracy: 0.9911 - val_loss: 0.0299\n",
      "Epoch 10/10\n",
      "\u001b[1m4685/4685\u001b[0m \u001b[32m━━━━━━━━━━━━━━━━━━━━\u001b[0m\u001b[37m\u001b[0m \u001b[1m572s\u001b[0m 122ms/step - accuracy: 0.9910 - loss: 0.0332 - val_accuracy: 0.9906 - val_loss: 0.0426\n",
      "\u001b[1m8013/8013\u001b[0m \u001b[32m━━━━━━━━━━━━━━━━━━━━\u001b[0m\u001b[37m\u001b[0m \u001b[1m95s\u001b[0m 12ms/step - accuracy: 0.9991 - loss: 0.0051\n",
      "Test Accuracy: 0.99\n",
      "\u001b[1m8013/8013\u001b[0m \u001b[32m━━━━━━━━━━━━━━━━━━━━\u001b[0m\u001b[37m\u001b[0m \u001b[1m89s\u001b[0m 11ms/step\n",
      "Accuracy: 0.99\n",
      "F1 Score: 0.91\n",
      "Precision: 0.98\n",
      "Recall: 0.85\n",
      "ROC AUC: 0.98\n",
      "Confusion Matrix:\n",
      "[[242388    218]\n",
      " [  2062  11724]]\n"
     ]
    },
    {
     "data": {
      "image/png": "[encoded data removed]",
      "text/plain": [
       "<Figure size 432x288 with 1 Axes>"
      ]
     },
     "metadata": {
      "needs_background": "light"
     },
     "output_type": "display_data"
    },
    {
     "data": {
      "image/png": "[encoded data removed]",
      "text/plain": [
       "<Figure size 576x360 with 1 Axes>"
      ]
     },
     "metadata": {
      "needs_background": "light"
     },
     "output_type": "display_data"
    }
   ],
   "source": [
    "import tensorflow as tf\n",
    "import numpy as np\n",
    "from sklearn.metrics import f1_score, accuracy_score, precision_score, recall_score, confusion_matrix, roc_auc_score\n",
    "import matplotlib.pyplot as plt\n",
    "\n",
    "train_features_lstm = train_features_tensor[..., tf.newaxis]\n",
    "test_features_lstm = test_features_tensor[..., tf.newaxis]\n",
    "\n",
    "# Define the LSTM model architecture\n",
    "model = tf.keras.Sequential([\n",
    "    tf.keras.layers.LSTM(64, input_shape=(train_features_lstm.shape[1], train_features_lstm.shape[2]), return_sequences=True),\n",
    "    tf.keras.layers.LSTM(64),\n",
    "    tf.keras.layers.Dense(32, activation='relu'),\n",
    "    tf.keras.layers.Dropout(0.3),\n",
    "    tf.keras.layers.Dense(1, activation='sigmoid')  # Sigmoid for binary classification\n",
    "])\n",
    "\n",
    "# Compile the model\n",
    "model.compile(optimizer='adam',\n",
    "              loss='binary_crossentropy',  # Use binary crossentropy for binary classification\n",
    "              metrics=['accuracy'])\n",
    "\n",
    "check_point = \"LSTM_model.keras\"\n",
    "# Train the model\n",
    "history = model.fit(train_features_lstm, train_target_tensor, epochs=10, batch_size=128,\n",
    "                    validation_data=(test_features_lstm, test_target_tensor),\n",
    "                    callbacks=[\n",
    "                        tf.keras.callbacks.EarlyStopping(monitor='val_loss', mode='min', verbose=1, patience=10),\n",
    "                        tf.keras.callbacks.ModelCheckpoint(check_point, save_best_only=True)\n",
    "                    ])\n",
    "\n",
    "model = tf.keras.models.load_model(check_point)\n",
    "\n",
    "# Evaluate the model\n",
    "loss, accuracy = model.evaluate(test_features_lstm, test_target_tensor)\n",
    "print(f\"Test Accuracy: {accuracy:.2f}\")\n",
    "\n",
    "# Get model predictions for the test set\n",
    "predictions = model.predict(test_features_lstm).flatten()\n",
    "predicted_labels = (predictions > 0.5).astype(int)\n",
    "\n",
    "# Extract true labels from the test dataset\n",
    "true_labels = test_target_tensor.numpy()\n",
    "\n",
    "# Calculate metrics\n",
    "accuracy = accuracy_score(true_labels, predicted_labels)\n",
    "f1 = f1_score(true_labels, predicted_labels)\n",
    "precision = precision_score(true_labels, predicted_labels)\n",
    "recall = recall_score(true_labels, predicted_labels)\n",
    "roc_auc = roc_auc_score(true_labels, predictions)\n",
    "\n",
    "print(f\"Accuracy: {accuracy:.2f}\")\n",
    "print(f\"F1 Score: {f1:.2f}\")\n",
    "print(f\"Precision: {precision:.2f}\")\n",
    "print(f\"Recall: {recall:.2f}\")\n",
    "print(f\"ROC AUC: {roc_auc:.2f}\")\n",
    "\n",
    "# Print confusion matrix\n",
    "conf_matrix = confusion_matrix(true_labels, predicted_labels)\n",
    "print(f\"Confusion Matrix:\\n{conf_matrix}\")\n",
    "\n",
    "# Calculate and plot ROC curve\n",
    "fpr, tpr, thresholds = roc_curve(true_labels, predictions)\n",
    "\n",
    "plt.figure()\n",
    "plt.plot(fpr, tpr, color='darkorange', lw=2, label=f'ROC curve (area = {roc_auc:.2f})')\n",
    "plt.plot([0, 1], [0, 1], color='navy', lw=2, linestyle='--')\n",
    "plt.xlim([0.0, 1.0])\n",
    "plt.ylim([0.0, 1.05])\n",
    "plt.xlabel('False Positive Rate')\n",
    "plt.ylabel('True Positive Rate')\n",
    "plt.title('Receiver Operating Characteristic')\n",
    "plt.legend(loc=\"lower right\")\n",
    "plt.show()\n",
    "\n",
    "# Show the training process\n",
    "import pandas as pd\n",
    "pd.DataFrame(history.history).plot(figsize=(8, 5)) \n",
    "plt.grid(True)\n",
    "plt.gca().set_ylim(0, 1)\n",
    "plt.show()\n"
   ]
  },
  {
   "cell_type": "code",
   "execution_count": 11,
   "id": "c68835b9",
   "metadata": {},
   "outputs": [
    {
     "data": {
      "image/png": "[encoded data removed]",
      "text/plain": [
       "<Figure size 576x432 with 1 Axes>"
      ]
     },
     "metadata": {
      "needs_background": "light"
     },
     "output_type": "display_data"
    }
   ],
   "source": [
    "import seaborn as sns\n",
    "\n",
    "# Plot confusion matrix heatmap\n",
    "plt.figure(figsize=(8, 6))\n",
    "sns.heatmap(conf_matrix, annot=True, fmt='d', cmap='Blues', cbar=False)\n",
    "plt.xlabel('Predicted Label')\n",
    "plt.ylabel('True Label')\n",
    "plt.title('Confusion Matrix Heatmap')\n",
    "plt.show()"
   ]
  },
  {
   "cell_type": "code",
   "execution_count": 12,
   "id": "c33fc343",
   "metadata": {},
   "outputs": [
    {
     "data": {
      "image/png": "[encoded data removed]",
      "text/plain": [
       "<Figure size 432x288 with 1 Axes>"
      ]
     },
     "metadata": {
      "needs_background": "light"
     },
     "output_type": "display_data"
    }
   ],
   "source": [
    "from sklearn.metrics import precision_recall_curve\n",
    "import matplotlib.pyplot as plt\n",
    "\n",
    "# Calculate precision and recall\n",
    "precision, recall, _ = precision_recall_curve(true_labels, predictions)\n",
    "\n",
    "# Plot the PR curve\n",
    "plt.figure()\n",
    "plt.step(recall, precision, color='b', alpha=0.2, where='post')\n",
    "plt.fill_between(recall, precision, step='post', alpha=0.2, color='b')\n",
    "plt.xlabel('Recall')\n",
    "plt.ylabel('Precision')\n",
    "plt.ylim([0.0, 1.05])\n",
    "plt.xlim([0.0, 1.0])\n",
    "plt.title('Precision-Recall curve')\n",
    "plt.show()\n"
   ]
  },
  {
   "cell_type": "code",
   "execution_count": null,
   "id": "38adfd5d",
   "metadata": {},
   "outputs": [],
   "source": []
  },
  {
   "cell_type": "code",
   "execution_count": null,
   "id": "4e5a7569",
   "metadata": {},
   "outputs": [],
   "source": []
  }
 ],
 "metadata": {
  "kernelspec": {
   "display_name": "Python 3 (ipykernel)",
   "language": "python",
   "name": "python3"
  },
  "language_info": {
   "codemirror_mode": {
    "name": "ipython",
    "version": 3
   },
   "file_extension": ".py",
   "mimetype": "text/x-python",
   "name": "python",
   "nbconvert_exporter": "python",
   "pygments_lexer": "ipython3",
   "version": "3.9.18"
  }
 },
 "nbformat": 4,
 "nbformat_minor": 5
}
